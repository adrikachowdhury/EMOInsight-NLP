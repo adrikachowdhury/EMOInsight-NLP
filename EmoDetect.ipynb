{
  "cells": [
    {
      "cell_type": "markdown",
      "metadata": {
        "id": "_oyNgqmxWR-B"
      },
      "source": [
        "# **Install dependencies**"
      ]
    },
    {
      "cell_type": "code",
      "execution_count": 1,
      "metadata": {
        "colab": {
          "base_uri": "https://localhost:8080/"
        },
        "collapsed": true,
        "id": "1HAUWDqWO3-k",
        "outputId": "dbbe8ea9-1621-4035-fa19-3167d6c659c9"
      },
      "outputs": [
        {
          "output_type": "stream",
          "name": "stdout",
          "text": [
            "Requirement already satisfied: torch in /usr/local/lib/python3.11/dist-packages (2.6.0+cu124)\n",
            "Requirement already satisfied: nltk in /usr/local/lib/python3.11/dist-packages (3.9.1)\n",
            "Collecting unidecode\n",
            "  Downloading Unidecode-1.4.0-py3-none-any.whl.metadata (13 kB)\n",
            "Collecting emoji\n",
            "  Downloading emoji-2.14.1-py3-none-any.whl.metadata (5.7 kB)\n",
            "Collecting emoticon_fix\n",
            "  Downloading emoticon_fix-0.1.4-py3-none-any.whl.metadata (6.7 kB)\n",
            "Collecting lime\n",
            "  Downloading lime-0.2.0.1.tar.gz (275 kB)\n",
            "\u001b[2K     \u001b[90m━━━━━━━━━━━━━━━━━━━━━━━━━━━━━━━━━━━━━━━\u001b[0m \u001b[32m275.7/275.7 kB\u001b[0m \u001b[31m8.8 MB/s\u001b[0m eta \u001b[36m0:00:00\u001b[0m\n",
            "\u001b[?25h  Preparing metadata (setup.py) ... \u001b[?25l\u001b[?25hdone\n",
            "Requirement already satisfied: joblib in /usr/local/lib/python3.11/dist-packages (1.5.1)\n",
            "Requirement already satisfied: imbalanced-learn in /usr/local/lib/python3.11/dist-packages (0.13.0)\n",
            "Requirement already satisfied: filelock in /usr/local/lib/python3.11/dist-packages (from torch) (3.18.0)\n",
            "Requirement already satisfied: typing-extensions>=4.10.0 in /usr/local/lib/python3.11/dist-packages (from torch) (4.14.0)\n",
            "Requirement already satisfied: networkx in /usr/local/lib/python3.11/dist-packages (from torch) (3.5)\n",
            "Requirement already satisfied: jinja2 in /usr/local/lib/python3.11/dist-packages (from torch) (3.1.6)\n",
            "Requirement already satisfied: fsspec in /usr/local/lib/python3.11/dist-packages (from torch) (2025.3.2)\n",
            "Collecting nvidia-cuda-nvrtc-cu12==12.4.127 (from torch)\n",
            "  Downloading nvidia_cuda_nvrtc_cu12-12.4.127-py3-none-manylinux2014_x86_64.whl.metadata (1.5 kB)\n",
            "Collecting nvidia-cuda-runtime-cu12==12.4.127 (from torch)\n",
            "  Downloading nvidia_cuda_runtime_cu12-12.4.127-py3-none-manylinux2014_x86_64.whl.metadata (1.5 kB)\n",
            "Collecting nvidia-cuda-cupti-cu12==12.4.127 (from torch)\n",
            "  Downloading nvidia_cuda_cupti_cu12-12.4.127-py3-none-manylinux2014_x86_64.whl.metadata (1.6 kB)\n",
            "Collecting nvidia-cudnn-cu12==9.1.0.70 (from torch)\n",
            "  Downloading nvidia_cudnn_cu12-9.1.0.70-py3-none-manylinux2014_x86_64.whl.metadata (1.6 kB)\n",
            "Collecting nvidia-cublas-cu12==12.4.5.8 (from torch)\n",
            "  Downloading nvidia_cublas_cu12-12.4.5.8-py3-none-manylinux2014_x86_64.whl.metadata (1.5 kB)\n",
            "Collecting nvidia-cufft-cu12==11.2.1.3 (from torch)\n",
            "  Downloading nvidia_cufft_cu12-11.2.1.3-py3-none-manylinux2014_x86_64.whl.metadata (1.5 kB)\n",
            "Collecting nvidia-curand-cu12==10.3.5.147 (from torch)\n",
            "  Downloading nvidia_curand_cu12-10.3.5.147-py3-none-manylinux2014_x86_64.whl.metadata (1.5 kB)\n",
            "Collecting nvidia-cusolver-cu12==11.6.1.9 (from torch)\n",
            "  Downloading nvidia_cusolver_cu12-11.6.1.9-py3-none-manylinux2014_x86_64.whl.metadata (1.6 kB)\n",
            "Collecting nvidia-cusparse-cu12==12.3.1.170 (from torch)\n",
            "  Downloading nvidia_cusparse_cu12-12.3.1.170-py3-none-manylinux2014_x86_64.whl.metadata (1.6 kB)\n",
            "Requirement already satisfied: nvidia-cusparselt-cu12==0.6.2 in /usr/local/lib/python3.11/dist-packages (from torch) (0.6.2)\n",
            "Requirement already satisfied: nvidia-nccl-cu12==2.21.5 in /usr/local/lib/python3.11/dist-packages (from torch) (2.21.5)\n",
            "Requirement already satisfied: nvidia-nvtx-cu12==12.4.127 in /usr/local/lib/python3.11/dist-packages (from torch) (12.4.127)\n",
            "Collecting nvidia-nvjitlink-cu12==12.4.127 (from torch)\n",
            "  Downloading nvidia_nvjitlink_cu12-12.4.127-py3-none-manylinux2014_x86_64.whl.metadata (1.5 kB)\n",
            "Requirement already satisfied: triton==3.2.0 in /usr/local/lib/python3.11/dist-packages (from torch) (3.2.0)\n",
            "Requirement already satisfied: sympy==1.13.1 in /usr/local/lib/python3.11/dist-packages (from torch) (1.13.1)\n",
            "Requirement already satisfied: mpmath<1.4,>=1.1.0 in /usr/local/lib/python3.11/dist-packages (from sympy==1.13.1->torch) (1.3.0)\n",
            "Requirement already satisfied: click in /usr/local/lib/python3.11/dist-packages (from nltk) (8.2.1)\n",
            "Requirement already satisfied: regex>=2021.8.3 in /usr/local/lib/python3.11/dist-packages (from nltk) (2024.11.6)\n",
            "Requirement already satisfied: tqdm in /usr/local/lib/python3.11/dist-packages (from nltk) (4.67.1)\n",
            "Requirement already satisfied: matplotlib in /usr/local/lib/python3.11/dist-packages (from lime) (3.10.0)\n",
            "Requirement already satisfied: numpy in /usr/local/lib/python3.11/dist-packages (from lime) (2.0.2)\n",
            "Requirement already satisfied: scipy in /usr/local/lib/python3.11/dist-packages (from lime) (1.15.3)\n",
            "Requirement already satisfied: scikit-learn>=0.18 in /usr/local/lib/python3.11/dist-packages (from lime) (1.6.1)\n",
            "Requirement already satisfied: scikit-image>=0.12 in /usr/local/lib/python3.11/dist-packages (from lime) (0.25.2)\n",
            "Requirement already satisfied: sklearn-compat<1,>=0.1 in /usr/local/lib/python3.11/dist-packages (from imbalanced-learn) (0.1.3)\n",
            "Requirement already satisfied: threadpoolctl<4,>=2.0.0 in /usr/local/lib/python3.11/dist-packages (from imbalanced-learn) (3.6.0)\n",
            "Requirement already satisfied: pillow>=10.1 in /usr/local/lib/python3.11/dist-packages (from scikit-image>=0.12->lime) (11.2.1)\n",
            "Requirement already satisfied: imageio!=2.35.0,>=2.33 in /usr/local/lib/python3.11/dist-packages (from scikit-image>=0.12->lime) (2.37.0)\n",
            "Requirement already satisfied: tifffile>=2022.8.12 in /usr/local/lib/python3.11/dist-packages (from scikit-image>=0.12->lime) (2025.6.1)\n",
            "Requirement already satisfied: packaging>=21 in /usr/local/lib/python3.11/dist-packages (from scikit-image>=0.12->lime) (24.2)\n",
            "Requirement already satisfied: lazy-loader>=0.4 in /usr/local/lib/python3.11/dist-packages (from scikit-image>=0.12->lime) (0.4)\n",
            "Requirement already satisfied: MarkupSafe>=2.0 in /usr/local/lib/python3.11/dist-packages (from jinja2->torch) (3.0.2)\n",
            "Requirement already satisfied: contourpy>=1.0.1 in /usr/local/lib/python3.11/dist-packages (from matplotlib->lime) (1.3.2)\n",
            "Requirement already satisfied: cycler>=0.10 in /usr/local/lib/python3.11/dist-packages (from matplotlib->lime) (0.12.1)\n",
            "Requirement already satisfied: fonttools>=4.22.0 in /usr/local/lib/python3.11/dist-packages (from matplotlib->lime) (4.58.1)\n",
            "Requirement already satisfied: kiwisolver>=1.3.1 in /usr/local/lib/python3.11/dist-packages (from matplotlib->lime) (1.4.8)\n",
            "Requirement already satisfied: pyparsing>=2.3.1 in /usr/local/lib/python3.11/dist-packages (from matplotlib->lime) (3.2.3)\n",
            "Requirement already satisfied: python-dateutil>=2.7 in /usr/local/lib/python3.11/dist-packages (from matplotlib->lime) (2.9.0.post0)\n",
            "Requirement already satisfied: six>=1.5 in /usr/local/lib/python3.11/dist-packages (from python-dateutil>=2.7->matplotlib->lime) (1.17.0)\n",
            "Downloading nvidia_cublas_cu12-12.4.5.8-py3-none-manylinux2014_x86_64.whl (363.4 MB)\n",
            "\u001b[2K   \u001b[90m━━━━━━━━━━━━━━━━━━━━━━━━━━━━━━━━━━━━━━━━\u001b[0m \u001b[32m363.4/363.4 MB\u001b[0m \u001b[31m3.9 MB/s\u001b[0m eta \u001b[36m0:00:00\u001b[0m\n",
            "\u001b[?25hDownloading nvidia_cuda_cupti_cu12-12.4.127-py3-none-manylinux2014_x86_64.whl (13.8 MB)\n",
            "\u001b[2K   \u001b[90m━━━━━━━━━━━━━━━━━━━━━━━━━━━━━━━━━━━━━━━━\u001b[0m \u001b[32m13.8/13.8 MB\u001b[0m \u001b[31m119.9 MB/s\u001b[0m eta \u001b[36m0:00:00\u001b[0m\n",
            "\u001b[?25hDownloading nvidia_cuda_nvrtc_cu12-12.4.127-py3-none-manylinux2014_x86_64.whl (24.6 MB)\n",
            "\u001b[2K   \u001b[90m━━━━━━━━━━━━━━━━━━━━━━━━━━━━━━━━━━━━━━━━\u001b[0m \u001b[32m24.6/24.6 MB\u001b[0m \u001b[31m93.6 MB/s\u001b[0m eta \u001b[36m0:00:00\u001b[0m\n",
            "\u001b[?25hDownloading nvidia_cuda_runtime_cu12-12.4.127-py3-none-manylinux2014_x86_64.whl (883 kB)\n",
            "\u001b[2K   \u001b[90m━━━━━━━━━━━━━━━━━━━━━━━━━━━━━━━━━━━━━━━━\u001b[0m \u001b[32m883.7/883.7 kB\u001b[0m \u001b[31m59.5 MB/s\u001b[0m eta \u001b[36m0:00:00\u001b[0m\n",
            "\u001b[?25hDownloading nvidia_cudnn_cu12-9.1.0.70-py3-none-manylinux2014_x86_64.whl (664.8 MB)\n",
            "\u001b[2K   \u001b[90m━━━━━━━━━━━━━━━━━━━━━━━━━━━━━━━━━━━━━━━━\u001b[0m \u001b[32m664.8/664.8 MB\u001b[0m \u001b[31m2.0 MB/s\u001b[0m eta \u001b[36m0:00:00\u001b[0m\n",
            "\u001b[?25hDownloading nvidia_cufft_cu12-11.2.1.3-py3-none-manylinux2014_x86_64.whl (211.5 MB)\n",
            "\u001b[2K   \u001b[90m━━━━━━━━━━━━━━━━━━━━━━━━━━━━━━━━━━━━━━━━\u001b[0m \u001b[32m211.5/211.5 MB\u001b[0m \u001b[31m6.9 MB/s\u001b[0m eta \u001b[36m0:00:00\u001b[0m\n",
            "\u001b[?25hDownloading nvidia_curand_cu12-10.3.5.147-py3-none-manylinux2014_x86_64.whl (56.3 MB)\n",
            "\u001b[2K   \u001b[90m━━━━━━━━━━━━━━━━━━━━━━━━━━━━━━━━━━━━━━━━\u001b[0m \u001b[32m56.3/56.3 MB\u001b[0m \u001b[31m14.5 MB/s\u001b[0m eta \u001b[36m0:00:00\u001b[0m\n",
            "\u001b[?25hDownloading nvidia_cusolver_cu12-11.6.1.9-py3-none-manylinux2014_x86_64.whl (127.9 MB)\n",
            "\u001b[2K   \u001b[90m━━━━━━━━━━━━━━━━━━━━━━━━━━━━━━━━━━━━━━━━\u001b[0m \u001b[32m127.9/127.9 MB\u001b[0m \u001b[31m8.1 MB/s\u001b[0m eta \u001b[36m0:00:00\u001b[0m\n",
            "\u001b[?25hDownloading nvidia_cusparse_cu12-12.3.1.170-py3-none-manylinux2014_x86_64.whl (207.5 MB)\n",
            "\u001b[2K   \u001b[90m━━━━━━━━━━━━━━━━━━━━━━━━━━━━━━━━━━━━━━━━\u001b[0m \u001b[32m207.5/207.5 MB\u001b[0m \u001b[31m5.8 MB/s\u001b[0m eta \u001b[36m0:00:00\u001b[0m\n",
            "\u001b[?25hDownloading nvidia_nvjitlink_cu12-12.4.127-py3-none-manylinux2014_x86_64.whl (21.1 MB)\n",
            "\u001b[2K   \u001b[90m━━━━━━━━━━━━━━━━━━━━━━━━━━━━━━━━━━━━━━━━\u001b[0m \u001b[32m21.1/21.1 MB\u001b[0m \u001b[31m43.3 MB/s\u001b[0m eta \u001b[36m0:00:00\u001b[0m\n",
            "\u001b[?25hDownloading Unidecode-1.4.0-py3-none-any.whl (235 kB)\n",
            "\u001b[2K   \u001b[90m━━━━━━━━━━━━━━━━━━━━━━━━━━━━━━━━━━━━━━━━\u001b[0m \u001b[32m235.8/235.8 kB\u001b[0m \u001b[31m21.7 MB/s\u001b[0m eta \u001b[36m0:00:00\u001b[0m\n",
            "\u001b[?25hDownloading emoji-2.14.1-py3-none-any.whl (590 kB)\n",
            "\u001b[2K   \u001b[90m━━━━━━━━━━━━━━━━━━━━━━━━━━━━━━━━━━━━━━━━\u001b[0m \u001b[32m590.6/590.6 kB\u001b[0m \u001b[31m44.0 MB/s\u001b[0m eta \u001b[36m0:00:00\u001b[0m\n",
            "\u001b[?25hDownloading emoticon_fix-0.1.4-py3-none-any.whl (9.3 kB)\n",
            "Building wheels for collected packages: lime\n",
            "  Building wheel for lime (setup.py) ... \u001b[?25l\u001b[?25hdone\n",
            "  Created wheel for lime: filename=lime-0.2.0.1-py3-none-any.whl size=283834 sha256=29080d5a6696d9d7133f88b51e7bd6f7ce665428a63a653549439e1387c7b2b0\n",
            "  Stored in directory: /root/.cache/pip/wheels/85/fa/a3/9c2d44c9f3cd77cf4e533b58900b2bf4487f2a17e8ec212a3d\n",
            "Successfully built lime\n",
            "Installing collected packages: unidecode, nvidia-nvjitlink-cu12, nvidia-curand-cu12, nvidia-cufft-cu12, nvidia-cuda-runtime-cu12, nvidia-cuda-nvrtc-cu12, nvidia-cuda-cupti-cu12, nvidia-cublas-cu12, emoticon_fix, emoji, nvidia-cusparse-cu12, nvidia-cudnn-cu12, nvidia-cusolver-cu12, lime\n",
            "  Attempting uninstall: nvidia-nvjitlink-cu12\n",
            "    Found existing installation: nvidia-nvjitlink-cu12 12.5.82\n",
            "    Uninstalling nvidia-nvjitlink-cu12-12.5.82:\n",
            "      Successfully uninstalled nvidia-nvjitlink-cu12-12.5.82\n",
            "  Attempting uninstall: nvidia-curand-cu12\n",
            "    Found existing installation: nvidia-curand-cu12 10.3.6.82\n",
            "    Uninstalling nvidia-curand-cu12-10.3.6.82:\n",
            "      Successfully uninstalled nvidia-curand-cu12-10.3.6.82\n",
            "  Attempting uninstall: nvidia-cufft-cu12\n",
            "    Found existing installation: nvidia-cufft-cu12 11.2.3.61\n",
            "    Uninstalling nvidia-cufft-cu12-11.2.3.61:\n",
            "      Successfully uninstalled nvidia-cufft-cu12-11.2.3.61\n",
            "  Attempting uninstall: nvidia-cuda-runtime-cu12\n",
            "    Found existing installation: nvidia-cuda-runtime-cu12 12.5.82\n",
            "    Uninstalling nvidia-cuda-runtime-cu12-12.5.82:\n",
            "      Successfully uninstalled nvidia-cuda-runtime-cu12-12.5.82\n",
            "  Attempting uninstall: nvidia-cuda-nvrtc-cu12\n",
            "    Found existing installation: nvidia-cuda-nvrtc-cu12 12.5.82\n",
            "    Uninstalling nvidia-cuda-nvrtc-cu12-12.5.82:\n",
            "      Successfully uninstalled nvidia-cuda-nvrtc-cu12-12.5.82\n",
            "  Attempting uninstall: nvidia-cuda-cupti-cu12\n",
            "    Found existing installation: nvidia-cuda-cupti-cu12 12.5.82\n",
            "    Uninstalling nvidia-cuda-cupti-cu12-12.5.82:\n",
            "      Successfully uninstalled nvidia-cuda-cupti-cu12-12.5.82\n",
            "  Attempting uninstall: nvidia-cublas-cu12\n",
            "    Found existing installation: nvidia-cublas-cu12 12.5.3.2\n",
            "    Uninstalling nvidia-cublas-cu12-12.5.3.2:\n",
            "      Successfully uninstalled nvidia-cublas-cu12-12.5.3.2\n",
            "  Attempting uninstall: nvidia-cusparse-cu12\n",
            "    Found existing installation: nvidia-cusparse-cu12 12.5.1.3\n",
            "    Uninstalling nvidia-cusparse-cu12-12.5.1.3:\n",
            "      Successfully uninstalled nvidia-cusparse-cu12-12.5.1.3\n",
            "  Attempting uninstall: nvidia-cudnn-cu12\n",
            "    Found existing installation: nvidia-cudnn-cu12 9.3.0.75\n",
            "    Uninstalling nvidia-cudnn-cu12-9.3.0.75:\n",
            "      Successfully uninstalled nvidia-cudnn-cu12-9.3.0.75\n",
            "  Attempting uninstall: nvidia-cusolver-cu12\n",
            "    Found existing installation: nvidia-cusolver-cu12 11.6.3.83\n",
            "    Uninstalling nvidia-cusolver-cu12-11.6.3.83:\n",
            "      Successfully uninstalled nvidia-cusolver-cu12-11.6.3.83\n",
            "Successfully installed emoji-2.14.1 emoticon_fix-0.1.4 lime-0.2.0.1 nvidia-cublas-cu12-12.4.5.8 nvidia-cuda-cupti-cu12-12.4.127 nvidia-cuda-nvrtc-cu12-12.4.127 nvidia-cuda-runtime-cu12-12.4.127 nvidia-cudnn-cu12-9.1.0.70 nvidia-cufft-cu12-11.2.1.3 nvidia-curand-cu12-10.3.5.147 nvidia-cusolver-cu12-11.6.1.9 nvidia-cusparse-cu12-12.3.1.170 nvidia-nvjitlink-cu12-12.4.127 unidecode-1.4.0\n",
            "Requirement already satisfied: transformers in /usr/local/lib/python3.11/dist-packages (4.52.4)\n",
            "Requirement already satisfied: filelock in /usr/local/lib/python3.11/dist-packages (from transformers) (3.18.0)\n",
            "Requirement already satisfied: huggingface-hub<1.0,>=0.30.0 in /usr/local/lib/python3.11/dist-packages (from transformers) (0.32.4)\n",
            "Requirement already satisfied: numpy>=1.17 in /usr/local/lib/python3.11/dist-packages (from transformers) (2.0.2)\n",
            "Requirement already satisfied: packaging>=20.0 in /usr/local/lib/python3.11/dist-packages (from transformers) (24.2)\n",
            "Requirement already satisfied: pyyaml>=5.1 in /usr/local/lib/python3.11/dist-packages (from transformers) (6.0.2)\n",
            "Requirement already satisfied: regex!=2019.12.17 in /usr/local/lib/python3.11/dist-packages (from transformers) (2024.11.6)\n",
            "Requirement already satisfied: requests in /usr/local/lib/python3.11/dist-packages (from transformers) (2.32.3)\n",
            "Requirement already satisfied: tokenizers<0.22,>=0.21 in /usr/local/lib/python3.11/dist-packages (from transformers) (0.21.1)\n",
            "Requirement already satisfied: safetensors>=0.4.3 in /usr/local/lib/python3.11/dist-packages (from transformers) (0.5.3)\n",
            "Requirement already satisfied: tqdm>=4.27 in /usr/local/lib/python3.11/dist-packages (from transformers) (4.67.1)\n",
            "Requirement already satisfied: fsspec>=2023.5.0 in /usr/local/lib/python3.11/dist-packages (from huggingface-hub<1.0,>=0.30.0->transformers) (2025.3.2)\n",
            "Requirement already satisfied: typing-extensions>=3.7.4.3 in /usr/local/lib/python3.11/dist-packages (from huggingface-hub<1.0,>=0.30.0->transformers) (4.14.0)\n",
            "Requirement already satisfied: hf-xet<2.0.0,>=1.1.2 in /usr/local/lib/python3.11/dist-packages (from huggingface-hub<1.0,>=0.30.0->transformers) (1.1.2)\n",
            "Requirement already satisfied: charset-normalizer<4,>=2 in /usr/local/lib/python3.11/dist-packages (from requests->transformers) (3.4.2)\n",
            "Requirement already satisfied: idna<4,>=2.5 in /usr/local/lib/python3.11/dist-packages (from requests->transformers) (3.10)\n",
            "Requirement already satisfied: urllib3<3,>=1.21.1 in /usr/local/lib/python3.11/dist-packages (from requests->transformers) (2.4.0)\n",
            "Requirement already satisfied: certifi>=2017.4.17 in /usr/local/lib/python3.11/dist-packages (from requests->transformers) (2025.4.26)\n"
          ]
        }
      ],
      "source": [
        "!pip install torch nltk unidecode emoji emoticon_fix lime joblib imbalanced-learn\n",
        "!pip install --upgrade transformers"
      ]
    },
    {
      "cell_type": "markdown",
      "metadata": {
        "id": "OuC_iBf9WWNg"
      },
      "source": [
        "# **Import libraries**"
      ]
    },
    {
      "cell_type": "code",
      "execution_count": 2,
      "metadata": {
        "id": "sUoyAZ8XtP_M",
        "colab": {
          "base_uri": "https://localhost:8080/"
        },
        "outputId": "73d71a4f-ad6c-4bb3-c200-6ea949c957f6"
      },
      "outputs": [
        {
          "output_type": "stream",
          "name": "stderr",
          "text": [
            "TAPAS models are not usable since `tensorflow_probability` can't be loaded. It seems you have `tensorflow_probability` installed with the wrong tensorflow version. Please try to reinstall it following the instructions here: https://github.com/tensorflow/probability.\n",
            "GroupViT models are not usable since `tensorflow_probability` can't be loaded. It seems you have `tensorflow_probability` installed with the wrong tensorflow version.Please try to reinstall it following the instructions here: https://github.com/tensorflow/probability.\n"
          ]
        }
      ],
      "source": [
        "import pandas as pd\n",
        "import matplotlib.pyplot as plt\n",
        "import torch.nn as nn\n",
        "import seaborn as sns\n",
        "import numpy as np\n",
        "from sklearn.utils.class_weight import compute_class_weight\n",
        "from torch.utils.data import Dataset, DataLoader, WeightedRandomSampler\n",
        "import re, nltk, emoji, emoticon_fix, torch, joblib, traceback\n",
        "from nltk.corpus import stopwords\n",
        "from nltk.stem import SnowballStemmer\n",
        "from sklearn.preprocessing import StandardScaler\n",
        "from unidecode import unidecode\n",
        "from nltk.stem import WordNetLemmatizer\n",
        "from sklearn.metrics import *\n",
        "from sklearn.neural_network import MLPClassifier\n",
        "from transformers import *\n",
        "from sklearn.model_selection import StratifiedKFold\n",
        "from sklearn.pipeline import Pipeline\n",
        "from imblearn.over_sampling import SMOTE\n",
        "from lime.lime_text import LimeTextExplainer\n",
        "import logging"
      ]
    },
    {
      "cell_type": "markdown",
      "source": [
        "# **Set Up Logging**\n",
        "---\n",
        "Logging helps us keep track of what's happening during training, like a diary for our code.\n",
        "We'll save this diary (log) to a file called 'training.log'."
      ],
      "metadata": {
        "id": "ARZoC0Z71hpZ"
      }
    },
    {
      "cell_type": "code",
      "execution_count": 3,
      "metadata": {
        "id": "pDHD0L_uPtCv"
      },
      "outputs": [],
      "source": [
        "logging.basicConfig(filename='training.log', level=logging.INFO,\n",
        "                    format='%(asctime)s - %(levelname)s - %(message)s')\n",
        "logger = logging.getLogger()"
      ]
    },
    {
      "cell_type": "markdown",
      "metadata": {
        "id": "7VhbybjvWohj"
      },
      "source": [
        "# **Download Stopwords**\n",
        "\n",
        "---\n",
        "Downloads NLTK stopwords and related resources for text preprocessing.\n"
      ]
    },
    {
      "cell_type": "code",
      "execution_count": 4,
      "metadata": {
        "colab": {
          "base_uri": "https://localhost:8080/"
        },
        "id": "s7KHXg2wQ9f6",
        "outputId": "af5591f0-429d-4cd7-b121-04ae8470ba26"
      },
      "outputs": [
        {
          "output_type": "stream",
          "name": "stderr",
          "text": [
            "[nltk_data] Downloading package stopwords to /root/nltk_data...\n",
            "[nltk_data]   Unzipping corpora/stopwords.zip.\n",
            "[nltk_data] Downloading package wordnet to /root/nltk_data...\n",
            "[nltk_data] Downloading package omw-1.4 to /root/nltk_data...\n",
            "[nltk_data] Downloading package averaged_perceptron_tagger_eng to\n",
            "[nltk_data]     /root/nltk_data...\n",
            "[nltk_data]   Unzipping taggers/averaged_perceptron_tagger_eng.zip.\n"
          ]
        },
        {
          "output_type": "execute_result",
          "data": {
            "text/plain": [
              "True"
            ]
          },
          "metadata": {},
          "execution_count": 4
        }
      ],
      "source": [
        "nltk.download('stopwords')\n",
        "stop_words = set(stopwords.words('english'))\n",
        "snow_stemmer = SnowballStemmer(language='english')\n",
        "nltk.download('wordnet')\n",
        "nltk.download('omw-1.4')\n",
        "nltk.download('averaged_perceptron_tagger_eng')"
      ]
    },
    {
      "cell_type": "markdown",
      "metadata": {
        "id": "xTOwnOmHWaWD"
      },
      "source": [
        "# **Check Dataset Labels**\n",
        "\n",
        "---\n",
        "Loads and inspects initial dataset files (train, dev, test) to verify label distributions.\n"
      ]
    },
    {
      "cell_type": "code",
      "execution_count": 5,
      "metadata": {
        "colab": {
          "base_uri": "https://localhost:8080/"
        },
        "collapsed": true,
        "id": "A7IwEfHeJmMW",
        "outputId": "d9281c54-c9c6-4c6c-8e3d-e4e86112e4b5"
      },
      "outputs": [
        {
          "output_type": "stream",
          "name": "stdout",
          "text": [
            "Size of new_train.csv: 30160\n",
            "Size of new_dev.csv: 2755\n",
            "Size of new_test.csv: 5509\n"
          ]
        }
      ],
      "source": [
        "# Load CSV files\n",
        "train_df = pd.read_csv('cleansed_train.csv')\n",
        "dev_df = pd.read_csv('cleansed_dev.csv')\n",
        "test_df = pd.read_csv('cleansed_test.csv')\n",
        "\n",
        "print(\"Size of new_train.csv:\", len(train_df))\n",
        "print(\"Size of new_dev.csv:\", len(dev_df))\n",
        "print(\"Size of new_test.csv:\", len(test_df))"
      ]
    },
    {
      "cell_type": "markdown",
      "source": [
        "# **Look at sample data**"
      ],
      "metadata": {
        "id": "jcVuZx-z2WpD"
      }
    },
    {
      "cell_type": "code",
      "execution_count": 6,
      "metadata": {
        "colab": {
          "base_uri": "https://localhost:8080/"
        },
        "id": "TGL0uJn-1UaR",
        "outputId": "e07d4855-d4d9-49de-df2a-44e41ecf075e"
      },
      "outputs": [
        {
          "output_type": "stream",
          "name": "stdout",
          "text": [
            "Train columns: Index(['turn1', 'turn2', 'turn3', 'label'], dtype='object')\n",
            "Train first few rows:                   turn1                                              turn2  \\\n",
            "0  don't worry i'm girl                       hmm how do i know if you are   \n",
            "1          when did i ?                         saw many times i think - -   \n",
            "2                    by                                   by google chrome   \n",
            "3      u are ridiculous  i might be ridiculous but i am telling the tru...   \n",
            "4    just for time pass                       wt do you do 4 a living then   \n",
            "\n",
            "                       turn3   label  \n",
            "0         what's your name ?  others  \n",
            "1       no . i never saw you   angry  \n",
            "2             where you live  others  \n",
            "3  u little disgusting whore   angry  \n",
            "4                      maybe  others  \n",
            "Train label counts: label\n",
            "others    14948\n",
            "angry      5506\n",
            "sad        5463\n",
            "happy      4243\n",
            "Name: count, dtype: int64\n"
          ]
        }
      ],
      "source": [
        "print(\"Train columns:\", train_df.columns)\n",
        "print(\"Train first few rows:\", train_df.head())\n",
        "print(\"Train label counts:\", train_df['label'].value_counts())\n",
        "logger.info(\"Datasets loaded successfully.\")"
      ]
    },
    {
      "cell_type": "markdown",
      "metadata": {
        "id": "-lWF0xZiWr4h"
      },
      "source": [
        "# **Preprocess Data**\n",
        "\n",
        "\n",
        "---\n",
        "\n",
        "\n",
        "Names of the preprocessing steps from the code:\n",
        "\n",
        "- Remove URLs\n",
        "- Remove special characters\n",
        "- Preserve [SEP]: separator to concatenate the turns\n",
        "- Normalize spaces\n",
        "- Convert to lowercase and strip whitespace\n",
        "- Convert accented characters (unidecode)\n",
        "- Convert emojis (demojize)\n",
        "- Fix emoticons (emoticon_fix)\n",
        "- Lemmatization and remove stopwords"
      ]
    },
    {
      "cell_type": "code",
      "execution_count": 8,
      "metadata": {
        "colab": {
          "base_uri": "https://localhost:8080/"
        },
        "id": "GbQioN6bO1AO",
        "outputId": "7ac12f5e-145a-4258-8a21-cc9504b3b6a8"
      },
      "outputs": [
        {
          "output_type": "stream",
          "name": "stdout",
          "text": [
            "Sample preprocessed texts from train_df: ['dont worry im girl [ sep ] hmm i know you are [ sep ] whats your name', 'i [ sep ] saw many time i think [ sep ] i never saw you', '[ sep ] google chrome [ sep ] you live', 'u are ridiculous [ sep ] i might ridiculous but i am telling truth [ sep ] u little disgusting whore', 'time pas [ sep ] wt you 4 living [ sep ] maybe']\n",
            "Sample preprocessed texts from dev_df: ['dont ask me [ sep ] youre guy not you would understand [ sep ] im not guy fuck', 'mixed thing [ sep ] thing you [ sep ] you seen minion', 'today im very happy [ sep ] im happy you [ sep ] i marry', 'woah bring me [ sep ] left oops [ sep ] brb', 'is thooooo [ sep ] i said soon master [ sep ] is pressuring me']\n",
            "Sample preprocessed texts from test_df: ['hmm [ sep ] your bio mean [ sep ] i dont bio', 'you like [ sep ] very little thing [ sep ] ok', 'yes [ sep ] so [ sep ] i want fuck babu', 'you guess [ sep ] [ sep ] fuck', '[ sep ] course [ sep ] gender movie you like']\n"
          ]
        }
      ],
      "source": [
        "def preprocess_text(text):\n",
        "    if not isinstance(text, str):\n",
        "        text = str(text)\n",
        "    text = re.sub(r\"http\\S+|www\\S+\", \"\", text)  # Remove URLs\n",
        "    text = re.sub(r\"[^\\w\\s\\[SEP\\]]\", \"\", text)  # Remove special characters but preserve [SEP]\n",
        "    text = re.sub(r\"\\s+\", \" \", text)  # Normalize spaces\n",
        "    text = text.lower().strip()\n",
        "    text = unidecode(text)  # Convert accented characters\n",
        "    text = emoji.demojize(text)  # Convert emojis\n",
        "    text = emoticon_fix.emoticon_fix(text)  # Use available emoticon_fix\n",
        "    words = text.split()\n",
        "    custom_stop_words = set(stop_words) - {'i', 'you', 'not', 'am', 'are', 'but', 'or', 'because', 'is', 'was', 'were', 'my', 'your', 'me', 'very', 'so', 'too'}\n",
        "    lemmatizer = WordNetLemmatizer()\n",
        "    words = [lemmatizer.lemmatize(word) for word in words if word.lower() not in custom_stop_words]\n",
        "    return \" \".join(words)\n",
        "\n",
        "# Ensure no missing values\n",
        "train_df = train_df.dropna(subset=['turn1', 'turn2', 'turn3', 'label'])\n",
        "dev_df = dev_df.dropna(subset=['turn1', 'turn2', 'turn3', 'label'])\n",
        "test_df = test_df.dropna(subset=['turn1', 'turn2', 'turn3', 'label'])\n",
        "\n",
        "# Combine the three turns with [SEP] separator and preprocess\n",
        "separator = \"[SEP]\"\n",
        "train_df['text'] = (train_df['turn1'] + separator + train_df['turn2'] + separator + train_df['turn3']).apply(preprocess_text)\n",
        "dev_df['text'] = (dev_df['turn1'] + separator + dev_df['turn2'] + separator + dev_df['turn3']).apply(preprocess_text)\n",
        "test_df['text'] = (test_df['turn1'] + separator + test_df['turn2'] + separator + test_df['turn3']).apply(preprocess_text)\n",
        "\n",
        "# Verify a few samples to ensure [SEP] is preserved\n",
        "print(\"Sample preprocessed texts from train_df:\", train_df['text'].head().tolist())\n",
        "print(\"Sample preprocessed texts from dev_df:\", dev_df['text'].head().tolist())\n",
        "print(\"Sample preprocessed texts from test_df:\", test_df['text'].head().tolist())\n",
        "\n",
        "# Label mapping and ensure integer type\n",
        "label_map = {'happy': 0, 'sad': 1, 'angry': 2, 'others': 3}\n",
        "train_df['label'] = train_df['label'].map(label_map).astype('Int64')\n",
        "dev_df['label'] = dev_df['label'].map(label_map).astype('Int64')\n",
        "test_df['label'] = test_df['label'].map(label_map).astype('Int64')\n",
        "\n",
        "# Save processed data\n",
        "train_df.to_csv(\"new_train.csv\", index=False)\n",
        "dev_df.to_csv(\"new_dev.csv\", index=False)\n",
        "test_df.to_csv(\"new_test.csv\", index=False)"
      ]
    },
    {
      "cell_type": "markdown",
      "metadata": {
        "id": "jAMCBxIwWvrq"
      },
      "source": [
        "# **Check and load the preprocessed data instances**"
      ]
    },
    {
      "cell_type": "code",
      "execution_count": 9,
      "metadata": {
        "colab": {
          "base_uri": "https://localhost:8080/"
        },
        "id": "ga7jeL-B_GqJ",
        "outputId": "3ff84368-53e3-4fca-df26-a0b6728d85a4"
      },
      "outputs": [
        {
          "output_type": "stream",
          "name": "stdout",
          "text": [
            "Number of instances in preprocessed train data: 28697\n",
            "Number of instances in preprocessed dev data: 2690\n",
            "Number of instances in preprocessed test data: 5354\n"
          ]
        }
      ],
      "source": [
        "print(\"Number of instances in preprocessed train data:\", len(train_df))\n",
        "print(\"Number of instances in preprocessed dev data:\", len(dev_df))\n",
        "print(\"Number of instances in preprocessed test data:\", len(test_df))\n",
        "logger.info(\"Data preprocessing completed.\")"
      ]
    },
    {
      "cell_type": "code",
      "execution_count": 10,
      "metadata": {
        "id": "BNVMPr-jXizf"
      },
      "outputs": [],
      "source": [
        "train_df = pd.read_csv('new_train.csv')\n",
        "dev_df = pd.read_csv('new_dev.csv')\n",
        "test_df = pd.read_csv('new_test.csv')"
      ]
    },
    {
      "cell_type": "markdown",
      "metadata": {
        "id": "IXTrgsMWHs3G"
      },
      "source": [
        "# **Visualizing Instances**"
      ]
    },
    {
      "cell_type": "code",
      "execution_count": null,
      "metadata": {
        "colab": {
          "base_uri": "https://localhost:8080/",
          "height": 1000
        },
        "id": "HgA1QajYSIei",
        "outputId": "135aecf4-5a02-4db3-c007-089738cd32cf"
      },
      "outputs": [
        {
          "output_type": "display_data",
          "data": {
            "text/plain": [
              "<Figure size 800x500 with 1 Axes>"
            ],
            "image/png": "[encoded data removed]"
          },
          "metadata": {}
        },
        {
          "output_type": "display_data",
          "data": {
            "text/plain": [
              "<Figure size 800x500 with 1 Axes>"
            ],
            "image/png": "[encoded data removed]"
          },
          "metadata": {}
        },
        {
          "output_type": "display_data",
          "data": {
            "text/plain": [
              "<Figure size 800x500 with 1 Axes>"
            ],
            "image/png": "[encoded data removed]"
          },
          "metadata": {}
        }
      ],
      "source": [
        "# Plot 1: Label distribution for Train\n",
        "train_label_counts = train_df['label'].value_counts()\n",
        "plt.figure(figsize=(8, 5))\n",
        "bars = train_label_counts.plot(kind='bar', color='blue', alpha=0.7)\n",
        "plt.xlabel('Emotion Label')\n",
        "plt.ylabel('Count')\n",
        "plt.title('Label Distribution (Train)')\n",
        "plt.xticks(rotation=45)\n",
        "plt.grid(True, alpha=0.3)\n",
        "for i, v in enumerate(train_label_counts):\n",
        "    bars.text(i, v + 0.5, str(v), ha='center', va='bottom')\n",
        "plt.show()\n",
        "\n",
        "# Plot 2: Label distribution for Dev\n",
        "dev_label_counts = dev_df['label'].value_counts()\n",
        "plt.figure(figsize=(8, 5))\n",
        "bars = dev_label_counts.plot(kind='bar', color='orange', alpha=0.7)\n",
        "plt.xlabel('Emotion Label')\n",
        "plt.ylabel('Count')\n",
        "plt.title('Label Distribution (Dev)')\n",
        "plt.xticks(rotation=45)\n",
        "plt.grid(True, alpha=0.3)\n",
        "for i, v in enumerate(dev_label_counts):\n",
        "    bars.text(i, v + 0.5, str(v), ha='center', va='bottom')\n",
        "plt.show()\n",
        "\n",
        "# Plot 3: Label distribution for Test\n",
        "test_label_counts = test_df['label'].value_counts()\n",
        "plt.figure(figsize=(8, 5))\n",
        "bars = test_label_counts.plot(kind='bar', color='yellow', alpha=0.7)\n",
        "plt.xlabel('Emotion Label')\n",
        "plt.ylabel('Count')\n",
        "plt.title('Label Distribution (Test)')\n",
        "plt.xticks(rotation=45)\n",
        "plt.grid(True, alpha=0.3)\n",
        "for i, v in enumerate(test_label_counts):\n",
        "    bars.text(i, v + 0.5, str(v), ha='center', va='bottom')\n",
        "plt.show()"
      ]
    },
    {
      "cell_type": "markdown",
      "source": [
        "# **TRANSFORMER**"
      ],
      "metadata": {
        "id": "mh4v3dLrC4K7"
      }
    },
    {
      "cell_type": "markdown",
      "source": [
        "## **Create Dataset class**\n",
        "\n",
        "---\n",
        "Creates *EmoContextDataset* class to organize text and labels so the model can understand and learn from them easily.\n"
      ],
      "metadata": {
        "id": "aJCjYgb43RGK"
      }
    },
    {
      "cell_type": "code",
      "execution_count": 91,
      "metadata": {
        "id": "qIBJ7GEqGYw1"
      },
      "outputs": [],
      "source": [
        "class EmoContextDataset(Dataset):\n",
        "    def __init__(self, texts, labels, tokenizer):\n",
        "        # Explicitly convert each item in texts to string\n",
        "        string_texts = [str(t) for t in texts]\n",
        "        # Pass the list of strings to the tokenizer\n",
        "        self.encodings = tokenizer(string_texts, padding=True, truncation=True, max_length=384, return_tensors=\"pt\")\n",
        "        self.labels = torch.tensor(list(labels), dtype=torch.long)\n",
        "\n",
        "    def __len__(self):\n",
        "        return len(self.labels)\n",
        "\n",
        "    def __getitem__(self, idx):\n",
        "        item = {key: dev[idx] for key, dev in self.encodings.items()}\n",
        "        item[\"labels\"] = self.labels[idx]\n",
        "        return item"
      ]
    },
    {
      "cell_type": "markdown",
      "source": [
        "## **Custom Trainer with weighted loss**\n",
        "\n",
        "---\n",
        "Makes a special trainer to help the model pay attention to all emotions fairly, especially the less common ones.\n"
      ],
      "metadata": {
        "id": "WjwoANv_C-Kb"
      }
    },
    {
      "cell_type": "code",
      "execution_count": 92,
      "metadata": {
        "id": "eBqE3Ei1JDd7"
      },
      "outputs": [],
      "source": [
        "class WeightedTrainer(Trainer):\n",
        "    def __init__(self, class_weights=None, *args, **kwargs):\n",
        "        super().__init__(*args, **kwargs)\n",
        "        self.class_weights = class_weights\n",
        "\n",
        "    def compute_loss(self, model, inputs, return_outputs=False, num_items_in_batch=None):\n",
        "        labels = inputs[\"labels\"]\n",
        "        outputs = model(**inputs)\n",
        "        logits = outputs.logits\n",
        "        loss_fct = nn.CrossEntropyLoss(weight=self.class_weights.to(logits.device) if self.class_weights is not None else None)\n",
        "        loss = loss_fct(logits, labels)\n",
        "        return (loss, outputs) if return_outputs else loss"
      ]
    },
    {
      "cell_type": "markdown",
      "source": [
        "## **Compute Metrics**\n",
        "\n",
        "---\n",
        "Sets up a quick way to check how good the model is by measuring accuracy and F1 score, like a report card.\n"
      ],
      "metadata": {
        "id": "qqIYaKnW3uZh"
      }
    },
    {
      "cell_type": "code",
      "execution_count": 93,
      "metadata": {
        "id": "ELhcZ9ZJLv3T"
      },
      "outputs": [],
      "source": [
        "# Compute metrics\n",
        "def compute_metrics(eval_pred):\n",
        "    logits, labels = eval_pred\n",
        "    predictions = np.argmax(logits, axis=1)\n",
        "    return {\n",
        "        \"accuracy\": accuracy_score(labels, predictions),\n",
        "        \"f1\": classification_report(labels, predictions, output_dict=True)['weighted avg']['f1-score']\n",
        "    }"
      ]
    },
    {
      "cell_type": "markdown",
      "source": [
        "## **Initialize Tokenizer**\n",
        "\n",
        "---\n",
        "This code initializes a DistilBERT tokenizer from the pre-trained \"distilbert-base-uncased\" model to convert text into a format suitable for the model.\n"
      ],
      "metadata": {
        "id": "ariDCI8P33tl"
      }
    },
    {
      "cell_type": "code",
      "execution_count": 94,
      "metadata": {
        "colab": {
          "base_uri": "https://localhost:8080/"
        },
        "id": "1JahNA03L0bM",
        "outputId": "39eec47a-947d-412e-d135-ee5c4e6df5b2"
      },
      "outputs": [
        {
          "output_type": "stream",
          "name": "stderr",
          "text": [
            "loading file spiece.model from cache at /root/.cache/huggingface/hub/models--albert-base-v2/snapshots/8e2f239c5f8a2c0f253781ca60135db913e5c80c/spiece.model\n",
            "loading file added_tokens.json from cache at None\n",
            "loading file special_tokens_map.json from cache at None\n",
            "loading file tokenizer_config.json from cache at /root/.cache/huggingface/hub/models--albert-base-v2/snapshots/8e2f239c5f8a2c0f253781ca60135db913e5c80c/tokenizer_config.json\n",
            "loading file tokenizer.json from cache at /root/.cache/huggingface/hub/models--albert-base-v2/snapshots/8e2f239c5f8a2c0f253781ca60135db913e5c80c/tokenizer.json\n",
            "loading file chat_template.jinja from cache at None\n",
            "loading configuration file config.json from cache at /root/.cache/huggingface/hub/models--albert-base-v2/snapshots/8e2f239c5f8a2c0f253781ca60135db913e5c80c/config.json\n",
            "Model config AlbertConfig {\n",
            "  \"architectures\": [\n",
            "    \"AlbertForMaskedLM\"\n",
            "  ],\n",
            "  \"attention_probs_dropout_prob\": 0,\n",
            "  \"bos_token_id\": 2,\n",
            "  \"classifier_dropout_prob\": 0.1,\n",
            "  \"down_scale_factor\": 1,\n",
            "  \"embedding_size\": 128,\n",
            "  \"eos_token_id\": 3,\n",
            "  \"gap_size\": 0,\n",
            "  \"hidden_act\": \"gelu_new\",\n",
            "  \"hidden_dropout_prob\": 0,\n",
            "  \"hidden_size\": 768,\n",
            "  \"initializer_range\": 0.02,\n",
            "  \"inner_group_num\": 1,\n",
            "  \"intermediate_size\": 3072,\n",
            "  \"layer_norm_eps\": 1e-12,\n",
            "  \"max_position_embeddings\": 512,\n",
            "  \"model_type\": \"albert\",\n",
            "  \"net_structure_type\": 0,\n",
            "  \"num_attention_heads\": 12,\n",
            "  \"num_hidden_groups\": 1,\n",
            "  \"num_hidden_layers\": 12,\n",
            "  \"num_memory_blocks\": 0,\n",
            "  \"pad_token_id\": 0,\n",
            "  \"position_embedding_type\": \"absolute\",\n",
            "  \"transformers_version\": \"4.52.4\",\n",
            "  \"type_vocab_size\": 2,\n",
            "  \"vocab_size\": 30000\n",
            "}\n",
            "\n"
          ]
        }
      ],
      "source": [
        "tokenizer = AlbertTokenizer.from_pretrained(\"albert-base-v2\")"
      ]
    },
    {
      "cell_type": "markdown",
      "source": [
        "## **Use the preprocessed train and dev dataframes directly**\n",
        "\n",
        "---\n",
        "This code splits the training and development data into text features and their corresponding labels."
      ],
      "metadata": {
        "id": "hs8c7RH54LU0"
      }
    },
    {
      "cell_type": "code",
      "execution_count": 95,
      "metadata": {
        "id": "njjULcqQSCaz"
      },
      "outputs": [],
      "source": [
        "X_train = train_df[['text']]\n",
        "y_train = train_df['label']\n",
        "X_dev = dev_df[['text']]\n",
        "y_dev = dev_df['label']"
      ]
    },
    {
      "cell_type": "markdown",
      "source": [
        "## **Create datasets**\n",
        "\n",
        "---\n",
        "This code creates custom datasets to prepare the training and development data for use with the model."
      ],
      "metadata": {
        "id": "za5j9h-q4rV3"
      }
    },
    {
      "cell_type": "code",
      "execution_count": 96,
      "metadata": {
        "id": "5KIiDH8tSGgs"
      },
      "outputs": [],
      "source": [
        "train_dataset = EmoContextDataset(X_train['text'].tolist(), y_train.tolist(), tokenizer)\n",
        "dev_dataset = EmoContextDataset(X_dev['text'].tolist(), y_dev.tolist(), tokenizer)"
      ]
    },
    {
      "cell_type": "markdown",
      "source": [
        "## **Create DataLoader**\n",
        "\n",
        "---\n",
        "This code creates PyTorch *DataLoader* objects for the training and development datasets, which will be used to efficiently feed data to the model in batches during training and evaluation."
      ],
      "metadata": {
        "id": "Pr2JHg8T5GVX"
      }
    },
    {
      "cell_type": "code",
      "execution_count": 97,
      "metadata": {
        "id": "oFAn92aE3NA9"
      },
      "outputs": [],
      "source": [
        "train_dataloader = DataLoader(train_dataset, batch_size=32, shuffle=True)\n",
        "dev_dataloader = DataLoader(dev_dataset, batch_size=32, shuffle=False)"
      ]
    },
    {
      "cell_type": "markdown",
      "source": [
        "## **Initialize model**\n",
        "\n",
        "---\n",
        "This code initializes a DistilBERT model for sequence classification with 4 output labels from a pre-trained checkpoint.\n"
      ],
      "metadata": {
        "id": "ZaIbkDu45f50"
      }
    },
    {
      "cell_type": "code",
      "execution_count": 98,
      "metadata": {
        "colab": {
          "base_uri": "https://localhost:8080/"
        },
        "id": "WXqgEfC_SI__",
        "outputId": "f44bd550-1bef-424e-9145-5c49ef79713d"
      },
      "outputs": [
        {
          "output_type": "stream",
          "name": "stderr",
          "text": [
            "loading configuration file config.json from cache at /root/.cache/huggingface/hub/models--albert-base-v2/snapshots/8e2f239c5f8a2c0f253781ca60135db913e5c80c/config.json\n",
            "Model config AlbertConfig {\n",
            "  \"architectures\": [\n",
            "    \"AlbertForMaskedLM\"\n",
            "  ],\n",
            "  \"attention_probs_dropout_prob\": 0,\n",
            "  \"bos_token_id\": 2,\n",
            "  \"classifier_dropout_prob\": 0.1,\n",
            "  \"down_scale_factor\": 1,\n",
            "  \"embedding_size\": 128,\n",
            "  \"eos_token_id\": 3,\n",
            "  \"gap_size\": 0,\n",
            "  \"hidden_act\": \"gelu_new\",\n",
            "  \"hidden_dropout_prob\": 0,\n",
            "  \"hidden_size\": 768,\n",
            "  \"id2label\": {\n",
            "    \"0\": \"LABEL_0\",\n",
            "    \"1\": \"LABEL_1\",\n",
            "    \"2\": \"LABEL_2\",\n",
            "    \"3\": \"LABEL_3\"\n",
            "  },\n",
            "  \"initializer_range\": 0.02,\n",
            "  \"inner_group_num\": 1,\n",
            "  \"intermediate_size\": 3072,\n",
            "  \"label2id\": {\n",
            "    \"LABEL_0\": 0,\n",
            "    \"LABEL_1\": 1,\n",
            "    \"LABEL_2\": 2,\n",
            "    \"LABEL_3\": 3\n",
            "  },\n",
            "  \"layer_norm_eps\": 1e-12,\n",
            "  \"max_position_embeddings\": 512,\n",
            "  \"model_type\": \"albert\",\n",
            "  \"net_structure_type\": 0,\n",
            "  \"num_attention_heads\": 12,\n",
            "  \"num_hidden_groups\": 1,\n",
            "  \"num_hidden_layers\": 12,\n",
            "  \"num_memory_blocks\": 0,\n",
            "  \"pad_token_id\": 0,\n",
            "  \"position_embedding_type\": \"absolute\",\n",
            "  \"transformers_version\": \"4.52.4\",\n",
            "  \"type_vocab_size\": 2,\n",
            "  \"vocab_size\": 30000\n",
            "}\n",
            "\n",
            "loading weights file model.safetensors from cache at /root/.cache/huggingface/hub/models--albert-base-v2/snapshots/8e2f239c5f8a2c0f253781ca60135db913e5c80c/model.safetensors\n",
            "Some weights of the model checkpoint at albert-base-v2 were not used when initializing AlbertForSequenceClassification: ['predictions.LayerNorm.bias', 'predictions.LayerNorm.weight', 'predictions.bias', 'predictions.decoder.bias', 'predictions.dense.bias', 'predictions.dense.weight']\n",
            "- This IS expected if you are initializing AlbertForSequenceClassification from the checkpoint of a model trained on another task or with another architecture (e.g. initializing a BertForSequenceClassification model from a BertForPreTraining model).\n",
            "- This IS NOT expected if you are initializing AlbertForSequenceClassification from the checkpoint of a model that you expect to be exactly identical (initializing a BertForSequenceClassification model from a BertForSequenceClassification model).\n",
            "Some weights of AlbertForSequenceClassification were not initialized from the model checkpoint at albert-base-v2 and are newly initialized: ['classifier.bias', 'classifier.weight']\n",
            "You should probably TRAIN this model on a down-stream task to be able to use it for predictions and inference.\n"
          ]
        }
      ],
      "source": [
        "model = AlbertForSequenceClassification.from_pretrained(\"albert-base-v2\", num_labels=4)"
      ]
    },
    {
      "cell_type": "markdown",
      "source": [
        "## **Dropout**"
      ],
      "metadata": {
        "id": "Em_wpN276Dk5"
      }
    },
    {
      "cell_type": "code",
      "execution_count": 99,
      "metadata": {
        "id": "scUs5qK_SKaN"
      },
      "outputs": [],
      "source": [
        "model.config.hidden_dropout_prob = 0.4"
      ]
    },
    {
      "cell_type": "markdown",
      "source": [
        "## **Define optimizer**\n",
        "\n",
        "---\n",
        "This code uses an algorithm to update the model's parameters during training to minimize the loss function.\n"
      ],
      "metadata": {
        "id": "6UfIfCOu6OJ1"
      }
    },
    {
      "cell_type": "code",
      "execution_count": 100,
      "metadata": {
        "id": "Thitq40FSMRj"
      },
      "outputs": [],
      "source": [
        "albert_optimizer = torch.optim.Adam(model.parameters(), lr=1e-3)"
      ]
    },
    {
      "cell_type": "markdown",
      "source": [
        "## **Define Training Arguments and Initialize Trainer**\n",
        "\n",
        "---\n",
        "This code defines the training settings and initializes the Hugging Face Trainer object for managing the training process.\n"
      ],
      "metadata": {
        "id": "96Sakh0h6kd7"
      }
    },
    {
      "cell_type": "code",
      "execution_count": 101,
      "metadata": {
        "colab": {
          "base_uri": "https://localhost:8080/"
        },
        "id": "XN1C3g0NMy93",
        "outputId": "bfc293a7-f29a-4f7d-e455-e1e5c202f5f3"
      },
      "outputs": [
        {
          "output_type": "stream",
          "name": "stderr",
          "text": [
            "PyTorch: setting up devices\n",
            "<ipython-input-101-3326452056>:23: FutureWarning: `tokenizer` is deprecated and will be removed in version 5.0.0 for `Trainer.__init__`. Use `processing_class` instead.\n",
            "  trainer = Trainer(\n",
            "Using auto half precision backend\n"
          ]
        }
      ],
      "source": [
        "# Training arguments\n",
        "training_args = TrainingArguments(\n",
        "    output_dir=f\"./results\",\n",
        "    eval_strategy=\"epoch\",\n",
        "    save_strategy=\"epoch\",\n",
        "    per_device_train_batch_size=64,\n",
        "    per_device_eval_batch_size=64,\n",
        "    num_train_epochs=5,\n",
        "    weight_decay=0.1,\n",
        "    logging_dir=f\"./logs\",\n",
        "    logging_steps=10,\n",
        "    save_total_limit=2,\n",
        "    load_best_model_at_end=True,\n",
        "    metric_for_best_model=\"eval_f1\",\n",
        "    greater_is_better=True,\n",
        "    fp16=True,\n",
        "    report_to=\"none\",\n",
        "    save_on_each_node=False,\n",
        "    disable_tqdm=False\n",
        ")\n",
        "\n",
        "# Initialize Trainer (no class weights, using oversampling instead)\n",
        "trainer = Trainer(\n",
        "    model=model,\n",
        "    args=training_args,\n",
        "    train_dataset=train_dataset,\n",
        "    eval_dataset=dev_dataset,\n",
        "    tokenizer=tokenizer,\n",
        "    compute_metrics=compute_metrics,\n",
        "    optimizers=(albert_optimizer, None),\n",
        "    callbacks=[EarlyStoppingCallback(early_stopping_patience=3)]\n",
        ")"
      ]
    },
    {
      "cell_type": "markdown",
      "source": [
        "## **Train model**\n",
        "\n",
        "---\n",
        "This code trains the model using the Hugging Face Trainer.\n"
      ],
      "metadata": {
        "id": "LC1YuDMT6yFQ"
      }
    },
    {
      "cell_type": "code",
      "execution_count": null,
      "metadata": {
        "id": "ayuXzjzqxWH6"
      },
      "outputs": [],
      "source": [
        "trainer.train()"
      ]
    },
    {
      "cell_type": "markdown",
      "source": [
        "## **Classification Report (TRANSFORMER)**"
      ],
      "metadata": {
        "id": "-l_iGjno7KMm"
      }
    },
    {
      "cell_type": "code",
      "execution_count": null,
      "metadata": {
        "id": "oCPgrpnoZgnA"
      },
      "outputs": [],
      "source": [
        "print(\"\\nGenerating Classification Reports and Micro Averages...\\n\" + \"-\" * 50)\n",
        "\n",
        "# Train Set Evaluation\n",
        "train_preds = trainer.predict(train_dataset).predictions\n",
        "train_preds = np.argmax(train_preds, axis=1)\n",
        "\n",
        "print(\"\\nTrain Set Classification Report:\")\n",
        "# print(classification_report(y_train, train_preds, digits=4))\n",
        "\n",
        "# print(f\"\\nTraining Set Micro Averages:\")\n",
        "print('Recall Score:', recall_score(y_train, train_preds, average='micro'))\n",
        "print('Precision Score:', precision_score(y_train, train_preds, average='micro'))\n",
        "print('Micro Avg. F1 Score:', f1_score(y_train, train_preds, average='micro'))\n",
        "print('Accuracy:', accuracy_score(y_train, train_preds))\n",
        "\n",
        "# Development Set Evaluation\n",
        "dev_preds = trainer.predict(dev_dataset).predictions\n",
        "dev_preds = np.argmax(dev_preds, axis=1)\n",
        "\n",
        "print(\"\\nDevelopment Set Classification Report:\")\n",
        "# print(classification_report(dev_df['label'].tolist(), test_preds, digits=4))\n",
        "\n",
        "# print(f\"\\nDevelopment Set Micro Averages:\")\n",
        "print('Recall Score:', recall_score(dev_df['label'].tolist(), dev_preds, average='micro'))\n",
        "print('Precision Score:', precision_score(dev_df['label'].tolist(), dev_preds, average='micro'))\n",
        "print('Micro Avg. F1 Score:', f1_score(dev_df['label'].tolist(), dev_preds, average='micro'))\n",
        "print('Accuracy:', accuracy_score(dev_df['label'].tolist(), dev_preds))\n",
        "\n",
        "print(\"-\" * 50)"
      ]
    },
    {
      "cell_type": "markdown",
      "source": [
        "# **SEQUENTIAL LEARNING**"
      ],
      "metadata": {
        "id": "yNHYGs9K7Y-E"
      }
    },
    {
      "cell_type": "markdown",
      "source": [
        "## **Extract model features**\n",
        "\n",
        "---\n",
        "Pulls out important bits (features) from the model to use in the next steps, like finding clues."
      ],
      "metadata": {
        "id": "QJqiY2rs7dSz"
      }
    },
    {
      "cell_type": "code",
      "execution_count": null,
      "metadata": {
        "id": "Xc9mOyKtzH2R"
      },
      "outputs": [],
      "source": [
        "def extract_albert_features(model, dataloader, device):\n",
        "    model.eval()\n",
        "    features = []\n",
        "    with torch.no_grad():\n",
        "        for batch in dataloader:\n",
        "            input_ids = batch[\"input_ids\"].to(device)\n",
        "            attention_mask = batch[\"attention_mask\"].to(device)\n",
        "            outputs = model(input_ids, attention_mask=attention_mask, output_hidden_states=True)\n",
        "            hidden_states = outputs.hidden_states[-1]  # Last hidden layer\n",
        "            features.append(hidden_states[:, 0, :].cpu().numpy())  # CLS token\n",
        "    return np.vstack(features)"
      ]
    },
    {
      "cell_type": "markdown",
      "source": [
        "## **Define Dataset Classes**\n",
        "---\n",
        "This code defines a custom dataset class to prepare text data and labels for use with a model.\n"
      ],
      "metadata": {
        "id": "6vxF1ewu7yw8"
      }
    },
    {
      "cell_type": "code",
      "execution_count": null,
      "metadata": {
        "id": "cMXplbxuzJqH"
      },
      "outputs": [],
      "source": [
        "class AlBertDataset(Dataset):\n",
        "    def __init__(self, texts, labels, tokenizer):\n",
        "        string_texts = [str(t) for t in texts]\n",
        "        self.encodings = tokenizer(string_texts, padding=True, truncation=True, max_length=384, return_tensors=\"pt\")\n",
        "        self.labels = torch.tensor(labels, dtype=torch.long)\n",
        "\n",
        "    def __len__(self):\n",
        "        return len(self.labels)\n",
        "\n",
        "    def __getitem__(self, idx):\n",
        "        item = {key: dev[idx] for key, dev in self.encodings.items()}\n",
        "        item[\"labels\"] = self.labels[idx]\n",
        "        return item"
      ]
    },
    {
      "cell_type": "markdown",
      "metadata": {
        "id": "bfe05e44"
      },
      "source": [
        "## **Define Dataset Classes**\n",
        "* * *\n",
        "This code defines a custom dataset class to prepare pre-extracted features and labels for use with an LSTM model."
      ]
    },
    {
      "cell_type": "code",
      "execution_count": null,
      "metadata": {
        "id": "-VAT8He3zLWd"
      },
      "outputs": [],
      "source": [
        "class LSTMFeatureDataset(Dataset):\n",
        "    def __init__(self, features, labels):\n",
        "        self.features = torch.tensor(features, dtype=torch.float32).unsqueeze(1)  # (batch_size, 1, input_dim)\n",
        "        self.labels = torch.tensor(labels, dtype=torch.long)\n",
        "\n",
        "    def __len__(self):\n",
        "        return len(self.labels)\n",
        "\n",
        "    def __getitem__(self, idx):\n",
        "        return self.features[idx], self.labels[idx]"
      ]
    },
    {
      "cell_type": "markdown",
      "metadata": {
        "id": "873459ca"
      },
      "source": [
        "## **Define BiLSTM Model**\n",
        "\n",
        "* * *\n",
        "This code defines a Bidirectional LSTM (BiLSTM) model in PyTorch for sequence processing."
      ]
    },
    {
      "cell_type": "code",
      "execution_count": null,
      "metadata": {
        "id": "QKRlS9LDzNeO"
      },
      "outputs": [],
      "source": [
        "class BiLSTM(nn.Module):\n",
        "    def __init__(self, input_dim, hidden_dim, output_dim, dropout):\n",
        "        super(BiLSTM, self).__init__()\n",
        "        self.lstm = nn.LSTM(input_dim, hidden_dim, batch_first=True, bidirectional=True, dropout=dropout)\n",
        "        self.fc = nn.Linear(hidden_dim * 2, output_dim)  # Bidirectional doubles hidden size\n",
        "\n",
        "    def forward(self, x):\n",
        "        out, _ = self.lstm(x)\n",
        "        out = out[:, -1, :]\n",
        "        out = self.fc(out)\n",
        "        return out\n",
        "\n",
        "    def extract_features(self, x):\n",
        "        out, _ = self.lstm(x)\n",
        "        return out[:, -1, :] # Return the output of the LSTM layer before the linear layer"
      ]
    },
    {
      "cell_type": "markdown",
      "metadata": {
        "id": "71cfb036"
      },
      "source": [
        "## **Set Device and Move Model**\n",
        "\n",
        "* * *\n",
        "This code determines the available device (CPU or CUDA) and moves the model to that device."
      ]
    },
    {
      "cell_type": "code",
      "execution_count": null,
      "metadata": {
        "id": "X1SGG8b0zPbo"
      },
      "outputs": [],
      "source": [
        "device = torch.device(\"cuda\" if torch.cuda.is_available() else \"cpu\")\n",
        "model.to(device)"
      ]
    },
    {
      "cell_type": "markdown",
      "metadata": {
        "id": "d11ba89f"
      },
      "source": [
        "## **Prepare DistilBERT Datasets and DataLoaders**\n",
        "\n",
        "* * *\n",
        "This code prepares custom datasets and data loaders for the DistilBERT model using the tokenized text and labels."
      ]
    },
    {
      "cell_type": "code",
      "execution_count": null,
      "metadata": {
        "id": "wh_umR6tzRI7"
      },
      "outputs": [],
      "source": [
        "train_dataset = AlBertDataset(train_df['text'].tolist(), train_df['label'].tolist(), tokenizer)\n",
        "dev_dataset = AlBertDataset(dev_df['text'].tolist(), dev_df['label'].tolist(), tokenizer)\n",
        "train_dataloader = DataLoader(train_dataset, batch_size=32, shuffle=False)\n",
        "dev_dataloader = DataLoader(dev_dataset, batch_size=32, shuffle=False)"
      ]
    },
    {
      "cell_type": "markdown",
      "metadata": {
        "id": "70ce9511"
      },
      "source": [
        "## **Extract and Normalize DistilBERT Features**\n",
        "\n",
        "* * *\n",
        "This code extracts features from the DistilBERT model and normalizes them using `StandardScaler`."
      ]
    },
    {
      "cell_type": "code",
      "execution_count": null,
      "metadata": {
        "id": "ANRP_OWDzSho"
      },
      "outputs": [],
      "source": [
        "train_features = extract_albert_features(model, train_dataloader, device)\n",
        "dev_features = extract_albert_features(model, dev_dataloader, device)\n",
        "scaler = StandardScaler()\n",
        "train_features = scaler.fit_transform(train_features)\n",
        "dev_features = scaler.transform(dev_features)"
      ]
    },
    {
      "cell_type": "markdown",
      "metadata": {
        "id": "6738735f"
      },
      "source": [
        "## **Apply SMOTE to balance classes**\n",
        "\n",
        "---\n",
        "SMOTE is a technique that creates synthetic samples for minority classes to balance the dataset during training."
      ]
    },
    {
      "cell_type": "code",
      "execution_count": null,
      "metadata": {
        "id": "rToobQimzULY"
      },
      "outputs": [],
      "source": [
        "# Identify the number of samples in the majority class\n",
        "majority_class_count = train_df['label'].value_counts().max()\n",
        "\n",
        "# Define the sampling strategy to oversample minority classes to the majority class count\n",
        "sampling_strategy = {label: majority_class_count for label in np.unique(train_df['label']) if train_df['label'].value_counts()[label] < majority_class_count}\n",
        "\n",
        "smote = SMOTE(sampling_strategy=sampling_strategy, random_state=42)\n",
        "\n",
        "train_features_smote, train_labels_smote = smote.fit_resample(train_features, train_df['label'])\n",
        "print(\"Train label counts after SMOTE:\", pd.Series(train_labels_smote).value_counts())"
      ]
    },
    {
      "cell_type": "markdown",
      "source": [
        "## **Prepare BiLSTM datasets with SMOTE-balanced data**"
      ],
      "metadata": {
        "id": "AyDIfnPB-HxU"
      }
    },
    {
      "cell_type": "code",
      "execution_count": null,
      "metadata": {
        "id": "ZL7beC_quWP7"
      },
      "outputs": [],
      "source": [
        "train_lstm_dataset = LSTMFeatureDataset(train_features_smote, train_labels_smote)\n",
        "dev_lstm_dataset = LSTMFeatureDataset(dev_features, dev_df['label'].tolist())\n",
        "train_loader = DataLoader(train_lstm_dataset, batch_size=64, shuffle=True)\n",
        "dev_loader = DataLoader(dev_lstm_dataset, batch_size=64, shuffle=False)"
      ]
    },
    {
      "cell_type": "markdown",
      "source": [
        "## **Initialize BiLSTM model**\n",
        "\n",
        "---\n",
        "This code initializes the BiLSTM model and moves it to the device for computation.\n"
      ],
      "metadata": {
        "id": "QlrSBmRy-MFe"
      }
    },
    {
      "cell_type": "code",
      "execution_count": null,
      "metadata": {
        "id": "HIrYJS_5zXLi"
      },
      "outputs": [],
      "source": [
        "bilstm_model = BiLSTM(input_dim=train_features.shape[1], hidden_dim=256, output_dim=4, dropout=0.3).to(device)"
      ]
    },
    {
      "cell_type": "markdown",
      "source": [
        "## **Optimizer and Loss**\n",
        "\n",
        "---\n",
        "\n",
        "This code defines the optimizer, loss function, and learning rate scheduler for training the BiLSTM model."
      ],
      "metadata": {
        "id": "W1-9C-XZ-eZq"
      }
    },
    {
      "cell_type": "code",
      "execution_count": null,
      "metadata": {
        "id": "KpLjqNMEzZCu"
      },
      "outputs": [],
      "source": [
        "bilstm_optimizer = torch.optim.AdamW(bilstm_model.parameters(), lr=2e-4 )\n",
        "criterion = nn.CrossEntropyLoss()\n",
        "scheduler = torch.optim.lr_scheduler.ReduceLROnPlateau(bilstm_optimizer, mode='min', factor=0.5, patience=2)"
      ]
    },
    {
      "cell_type": "markdown",
      "metadata": {
        "id": "0a9d53b0"
      },
      "source": [
        "## **Train BiLSTM model with Development Evaluation and Early Stopping**\n",
        "\n",
        "* * *\n",
        "This code trains the BiLSTM model, evaluates its performance on the development set, and uses early stopping to prevent overfitting."
      ]
    },
    {
      "cell_type": "code",
      "execution_count": null,
      "metadata": {
        "id": "fBRNV5bLiD8l"
      },
      "outputs": [],
      "source": [
        "# Training loop with Development\n",
        "num_epochs = 10\n",
        "best_dev_loss = float('inf')\n",
        "patience = 3\n",
        "trigger_times = 0\n",
        "for epoch in range(num_epochs):\n",
        "    bilstm_model.train()\n",
        "    total_train_loss = 0\n",
        "    for batch_features, batch_labels in train_loader:\n",
        "        batch_features, batch_labels = batch_features.to(device), batch_labels.to(device)\n",
        "        bilstm_optimizer.zero_grad()\n",
        "        outputs = bilstm_model(batch_features)\n",
        "        loss = criterion(outputs, batch_labels)\n",
        "        loss.backward()\n",
        "        torch.nn.utils.clip_grad_norm_(bilstm_model.parameters(), max_norm=1.0)\n",
        "        bilstm_optimizer.step()\n",
        "        total_train_loss += loss.item()\n",
        "\n",
        "    # Development\n",
        "    bilstm_model.eval()\n",
        "    total_dev_loss = 0\n",
        "    all_preds, all_labels = [], []\n",
        "    with torch.no_grad():\n",
        "        for batch_features, batch_labels in dev_loader:\n",
        "            batch_features, batch_labels = batch_features.to(device), batch_labels.to(device)\n",
        "            outputs = bilstm_model(batch_features)\n",
        "            loss = criterion(outputs, batch_labels)\n",
        "            total_dev_loss += loss.item()\n",
        "            all_preds.extend(torch.softmax(outputs, dim=1).cpu().numpy())\n",
        "            all_labels.extend(batch_labels.cpu().numpy())\n",
        "\n",
        "    avg_train_loss = total_train_loss / len(train_loader)\n",
        "    avg_dev_loss = total_dev_loss / len(dev_loader)\n",
        "    dev_accuracy = accuracy_score(all_labels, np.argmax(all_preds, axis=1))\n",
        "    print(f\"Epoch [{epoch+1}/{num_epochs}], Train Loss: {avg_train_loss:.4f}, Dev Loss: {avg_dev_loss:.4f}, Dev Accuracy: {dev_accuracy:.4f}\")\n",
        "\n",
        "    if avg_dev_loss < best_dev_loss:\n",
        "        best_dev_loss = avg_dev_loss\n",
        "        trigger_times = 0\n",
        "        torch.save(bilstm_model.state_dict(), 'best_bilstm_model.pth')\n",
        "    else:\n",
        "        trigger_times += 1\n",
        "        if trigger_times >= patience:\n",
        "            print(\"Early stopping triggered.\")\n",
        "            break\n",
        "    scheduler.step(avg_dev_loss)"
      ]
    },
    {
      "cell_type": "code",
      "execution_count": null,
      "metadata": {
        "id": "Hfu3oHmlzi4v"
      },
      "outputs": [],
      "source": [
        "bilstm_model.eval()"
      ]
    },
    {
      "cell_type": "markdown",
      "metadata": {
        "id": "e77f1ba5"
      },
      "source": [
        "## **Evaluate BiLSTM on Development Set**\n",
        "\n",
        "* * *\n",
        "This code evaluates the BiLSTM model on the development set and extracts predictions and true labels."
      ]
    },
    {
      "cell_type": "code",
      "execution_count": null,
      "metadata": {
        "id": "-pM1TfFs4m6e"
      },
      "outputs": [],
      "source": [
        "# Evaluate on Development set\n",
        "all_preds, all_labels = [], []\n",
        "with torch.no_grad():\n",
        "    for batch_features, batch_labels in dev_loader:\n",
        "        batch_features, batch_labels = batch_features.to(device), batch_labels.to(device)\n",
        "        outputs = bilstm_model(batch_features)\n",
        "        all_preds.extend(torch.softmax(outputs, dim=1).cpu().numpy())\n",
        "        all_labels.extend(batch_labels.cpu().numpy())\n",
        "\n",
        "# Convert lists to numpy arrays for evaluation\n",
        "all_preds = np.array(all_preds)\n",
        "all_labels = np.array(all_labels)\n",
        "\n",
        "# Compute predicted labels\n",
        "predicted_labels = np.argmax(all_preds, axis=1)"
      ]
    },
    {
      "cell_type": "markdown",
      "source": [
        "## **Classification Report (SEQUENTIAL LEARNING)**"
      ],
      "metadata": {
        "id": "92vRjMzp_mkp"
      }
    },
    {
      "cell_type": "code",
      "execution_count": null,
      "metadata": {
        "id": "8WcOSsX_zp4v"
      },
      "outputs": [],
      "source": [
        "print(\"\\nDevelopment Set Classification Report (After BiLSTM):\")\n",
        "# print(classification_report(all_labels, predicted_labels, digits=4))\n",
        "\n",
        "# print(f\"\\nDevelopment Set Micro Averages (After BiLSTM):\")\n",
        "print('Recall Score:', recall_score(all_labels, predicted_labels, average='micro'))\n",
        "print('Precision Score:', precision_score(all_labels, predicted_labels, average='micro'))\n",
        "print('Micro Avg. F1 Score:', f1_score(all_labels, predicted_labels, average='micro'))\n",
        "print('Accuracy:', accuracy_score(all_labels, predicted_labels))"
      ]
    },
    {
      "cell_type": "markdown",
      "source": [
        "# **Multi-Layer Perceptron (MLP)**"
      ],
      "metadata": {
        "id": "3ipw-g8qcMjK"
      }
    },
    {
      "cell_type": "markdown",
      "metadata": {
        "id": "7680ae98"
      },
      "source": [
        "## **Extract BiLSTM Features**\n",
        "\n",
        "* * *\n",
        "This code defines a function and calls it to extract features from the BiLSTM model."
      ]
    },
    {
      "cell_type": "code",
      "execution_count": null,
      "metadata": {
        "id": "HQ4W3PCuAond"
      },
      "outputs": [],
      "source": [
        "def extract_bilstm_features(model, dataloader, device):\n",
        "    model.eval()\n",
        "    features = []\n",
        "    labels = []\n",
        "    with torch.no_grad():\n",
        "        for batch_features, batch_labels in dataloader:\n",
        "            batch_features = batch_features.to(device)\n",
        "            features_out = model.extract_features(batch_features)\n",
        "            features.append(features_out.cpu().numpy())\n",
        "            labels.append(batch_labels.numpy())\n",
        "    return np.vstack(features), np.concatenate(labels)"
      ]
    },
    {
      "cell_type": "code",
      "execution_count": null,
      "metadata": {
        "id": "4c4ISnCP_85d"
      },
      "outputs": [],
      "source": [
        "# Extract features for both train and dev sets\n",
        "train_bilstm_features, train_labels = extract_bilstm_features(bilstm_model, train_loader, device)\n",
        "dev_bilstm_features, dev_labels = extract_bilstm_features(bilstm_model, dev_loader, device)"
      ]
    },
    {
      "cell_type": "markdown",
      "metadata": {
        "id": "b2b2736a"
      },
      "source": [
        "## **Train and Evaluate MLP on BiLSTM Features**\n",
        "\n",
        "* * *\n",
        "This code trains an MLP classifier on the extracted BiLSTM features and makes predictions on the development set."
      ]
    },
    {
      "cell_type": "code",
      "execution_count": null,
      "metadata": {
        "id": "kONpl-jIAkPs"
      },
      "outputs": [],
      "source": [
        "# Train MLP on BiLSTM features\n",
        "mlp_classifier = MLPClassifier(hidden_layer_sizes=(256, ), max_iter=500, random_state=42, solver='sgd', activation='relu', learning_rate_init=2e-5, alpha=1e-3)\n",
        "mlp_classifier.fit(train_bilstm_features, train_labels)\n",
        "\n",
        "# Predictions from MLP on dev set\n",
        "dev_predictions_mlp = mlp_classifier.predict(dev_bilstm_features)"
      ]
    },
    {
      "cell_type": "markdown",
      "source": [
        "## **Classification Report (MLP)**"
      ],
      "metadata": {
        "id": "MhmWN3VfAdyU"
      }
    },
    {
      "cell_type": "code",
      "execution_count": null,
      "metadata": {
        "id": "GUw2z-RaAn6r"
      },
      "outputs": [],
      "source": [
        "print(\"\\nDevelopment Set Classification Report (After MLP):\")\n",
        "# print(classification_report(dev_labels, dev_predictions_mlp, digits=4))\n",
        "\n",
        "# Calculate and print micro averages for the MLP Development set\n",
        "mlp_dev_accuracy = accuracy_score(dev_labels, dev_predictions_mlp)\n",
        "mlp_dev_micro_precision = precision_score(dev_labels, dev_predictions_mlp, average='micro')\n",
        "mlp_dev_micro_recall = recall_score(dev_labels, dev_predictions_mlp, average='micro')\n",
        "mlp_dev_micro_f1 = f1_score(dev_labels, dev_predictions_mlp, average='micro')\n",
        "\n",
        "# print(f\"\\nDevelopment Set Micro Averages (After MLP):\")\n",
        "print('Recall Score:', recall_score(dev_labels, dev_predictions_mlp, average='micro'))\n",
        "print('Precision Score:', precision_score(dev_labels, dev_predictions_mlp, average='micro'))\n",
        "print('Micro Avg. F1 Score:', f1_score(dev_labels, dev_predictions_mlp, average='micro'))\n",
        "print('Accuracy:', accuracy_score(dev_labels, dev_predictions_mlp))"
      ]
    },
    {
      "cell_type": "markdown",
      "source": [
        "## **Evaluating on Test Set After MLP**\n",
        "\n",
        "---\n",
        "This code evaluates the MLP classifier on the test set by extracting features from the DistilBERT and BiLSTM models and then making predictions with the trained MLP.\n"
      ],
      "metadata": {
        "id": "ZrEOBcLiAkUM"
      }
    },
    {
      "cell_type": "code",
      "source": [
        "print(\"\\n--- Evaluating on Test Set After MLP ---\\n\" + \"-\" * 50)\n",
        "\n",
        "# Prepare test dataset for model feature extraction\n",
        "test_dataset = AlBertDataset(test_df['text'].tolist(), test_df['label'].tolist(), tokenizer)\n",
        "test_dataloader = DataLoader(test_dataset, batch_size=32, shuffle=False)\n",
        "\n",
        "# Extract model features for test set\n",
        "test_features = extract_albert_features(model, test_dataloader, device)\n",
        "test_features = scaler.transform(test_features)  # Normalize using the same scaler\n",
        "\n",
        "# Prepare test dataset for BiLSTM\n",
        "test_lstm_dataset = LSTMFeatureDataset(test_features, test_df['label'].tolist())\n",
        "test_loader = DataLoader(test_lstm_dataset, batch_size=32, shuffle=False)\n",
        "\n",
        "# Extract BiLSTM features for test set\n",
        "test_bilstm_features, test_labels = extract_bilstm_features(bilstm_model, test_loader, device)\n",
        "\n",
        "# Predict with MLP\n",
        "test_predictions_mlp = mlp_classifier.predict(test_bilstm_features)\n",
        "\n",
        "# Print Test Set Classification Report and Micro Averages\n",
        "print(\"\\nTest Set Classification Report (After MLP):\")\n",
        "# print(classification_report(test_labels, test_predictions_mlp, digits=4))\n",
        "\n",
        "print('Recall Score:', recall_score(test_labels, test_predictions_mlp, average='micro'))\n",
        "print('Precision Score:', precision_score(test_labels, test_predictions_mlp, average='micro'))\n",
        "print('Micro Avg. F1 Score:', f1_score(test_labels, test_predictions_mlp, average='micro'))\n",
        "print('Accuracy:', accuracy_score(test_labels, test_predictions_mlp))"
      ],
      "metadata": {
        "id": "lpPGzKRIBCJR"
      },
      "execution_count": null,
      "outputs": []
    },
    {
      "cell_type": "markdown",
      "source": [
        "## **Save Prediction File**"
      ],
      "metadata": {
        "id": "3YKsBsEMA6Pk"
      }
    },
    {
      "cell_type": "code",
      "execution_count": null,
      "metadata": {
        "id": "6x2f2GQy6paI"
      },
      "outputs": [],
      "source": [
        "# Create a DataFrame with actual and predicted labels for the test set\n",
        "results_df = pd.DataFrame({\n",
        "    'actual_label': test_labels,\n",
        "    'predicted_label': test_predictions_mlp\n",
        "})\n",
        "\n",
        "# Save the DataFrame to a CSV file\n",
        "results_df.to_csv('test_predictions.csv', index=False)\n",
        "\n",
        "print(\"Development set predictions saved to test_predictions.csv\")"
      ]
    },
    {
      "cell_type": "markdown",
      "source": [
        "# **Save the Entire Model**"
      ],
      "metadata": {
        "id": "lsqbyz0oBBdF"
      }
    },
    {
      "cell_type": "code",
      "source": [
        "# Save DistilBERT Model and Tokenizer\n",
        "trainer.save_model(\"./saved_albert_model\")\n",
        "tokenizer.save_pretrained(\"./saved_albert_model\")\n",
        "logger.info(\"AlBERT model and tokenizer saved successfully.\")\n",
        "\n",
        "# Save BiLSTM Model (best state)\n",
        "torch.save(bilstm_model.state_dict(), \"best_bilstm_model.pth\")\n",
        "logger.info(\"BiLSTM model state dict saved successfully.\")\n",
        "\n",
        "# Save MLPClassifier\n",
        "joblib.dump(mlp_classifier, \"mlp_classifier.joblib\")\n",
        "logger.info(\"MLPClassifier saved successfully.\")\n",
        "\n",
        "# Save Scaler for feature normalization\n",
        "joblib.dump(scaler, \"scaler.joblib\")\n",
        "logger.info(\"Scaler saved successfully.\")"
      ],
      "metadata": {
        "id": "GPiE4_Ctzkve"
      },
      "execution_count": null,
      "outputs": []
    },
    {
      "cell_type": "markdown",
      "source": [
        "# **LIME Explainability**"
      ],
      "metadata": {
        "id": "CHjLvs-OBQaB"
      }
    },
    {
      "cell_type": "markdown",
      "metadata": {
        "id": "d0748b55"
      },
      "source": [
        "## **Define Predict Probability Function for LIME**\n",
        "\n",
        "* * *\n",
        "This code defines a function to get probability predictions from the trained model for LIME explainability."
      ]
    },
    {
      "cell_type": "code",
      "execution_count": null,
      "metadata": {
        "id": "xn4MI0CzZ1Y6"
      },
      "outputs": [],
      "source": [
        "def predict_proba(texts):\n",
        "    # Ensure texts is a list\n",
        "    if not isinstance(texts, list):\n",
        "        texts = [texts]\n",
        "\n",
        "    probs_list = []\n",
        "    for text in texts:\n",
        "        # Remove [SEP] for LIME explanation\n",
        "        cleaned_text = text.replace(\"[SEP]\", \" \")\n",
        "\n",
        "        dataset = EmoContextDataset([cleaned_text], [0], tokenizer)  # Dummy label\n",
        "        dataloader = DataLoader(dataset, batch_size=1, shuffle=False)\n",
        "\n",
        "        # Extract model features\n",
        "        device = torch.device(\"cuda\" if torch.cuda.is_available() else \"cpu\")\n",
        "        bilstm_model.to(device)\n",
        "        features = extract_albert_features(model, dataloader, device)\n",
        "        features = scaler.transform(features)\n",
        "        lstm_dataset = LSTMFeatureDataset(features, [0])  # Dummy label\n",
        "        lstm_loader = DataLoader(lstm_dataset, batch_size=1, shuffle=False)\n",
        "\n",
        "        # Get BiLSTM features for MLP\n",
        "        bilstm_model.eval()\n",
        "        with torch.no_grad():\n",
        "            for batch_features, _ in lstm_loader:\n",
        "                batch_features = batch_features.to(device)\n",
        "                bilstm_features = bilstm_model.extract_features(batch_features) # Use extract_features\n",
        "\n",
        "        # Get MLP predictions\n",
        "        mlp_input = bilstm_features.cpu().detach().numpy().reshape(1, -1)\n",
        "        mlp_probs = mlp_classifier.predict_proba(mlp_input)\n",
        "        probs_list.append(mlp_probs[0]) # Append the probabilities for this text\n",
        "\n",
        "    return np.array(probs_list) # Return a numpy array of probabilities"
      ]
    },
    {
      "cell_type": "markdown",
      "metadata": {
        "id": "35f82ccd"
      },
      "source": [
        "## **Initialize LIME Explainer**\n",
        "\n",
        "* * *\n",
        "This code initializes a LIME text explainer to generate explanations for model predictions on text data."
      ]
    },
    {
      "cell_type": "code",
      "execution_count": null,
      "metadata": {
        "id": "cq2f05-gvuQA"
      },
      "outputs": [],
      "source": [
        "explainer = LimeTextExplainer(class_names=['happy', 'sad', 'angry', 'others'])"
      ]
    },
    {
      "cell_type": "code",
      "execution_count": null,
      "metadata": {
        "id": "EfLDJ97hvwjZ"
      },
      "outputs": [],
      "source": [
        "# Choose a random text example from dev_df\n",
        "example_text = np.random.choice(dev_df['text'].tolist())\n",
        "exp = explainer.explain_instance(example_text, predict_proba, num_features=10, labels=[0, 1, 2, 3])"
      ]
    },
    {
      "cell_type": "code",
      "execution_count": null,
      "metadata": {
        "id": "VIp_-Q6evzKZ"
      },
      "outputs": [],
      "source": [
        "# Show explanation in notebook\n",
        "print(\"\\nLIME Explanation for Example Text:\")\n",
        "exp.show_in_notebook()"
      ]
    },
    {
      "cell_type": "code",
      "execution_count": null,
      "metadata": {
        "id": "biP9XnLbv0rM"
      },
      "outputs": [],
      "source": [
        "# Optionally, save or print explanation\n",
        "exp_as_list = exp.as_list(label=2)\n",
        "print(\"\\nTop features for 'angry' prediction:\")\n",
        "for feature, weight in exp_as_list:\n",
        "    print(f\"{feature}: {weight:.4f}\")"
      ]
    }
  ],
  "metadata": {
    "accelerator": "GPU",
    "colab": {
      "gpuType": "T4",
      "provenance": []
    },
    "kernelspec": {
      "display_name": "Python 3",
      "name": "python3"
    },
    "language_info": {
      "name": "python"
    }
  },
  "nbformat": 4,
  "nbformat_minor": 0
}